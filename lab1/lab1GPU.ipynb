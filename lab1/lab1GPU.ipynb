{
  "nbformat": 4,
  "nbformat_minor": 0,
  "metadata": {
    "colab": {
      "name": "lab1GPU.ipynb",
      "provenance": [],
      "collapsed_sections": []
    },
    "kernelspec": {
      "name": "python3",
      "display_name": "Python 3"
    },
    "accelerator": "GPU"
  },
  "cells": [
    {
      "cell_type": "code",
      "metadata": {
        "id": "5ModNV5naOwT",
        "colab_type": "code",
        "colab": {}
      },
      "source": [
        "! sudo apt install nvidia-cuda-toolkit"
      ],
      "execution_count": null,
      "outputs": []
    },
    {
      "cell_type": "code",
      "metadata": {
        "id": "_hgVhDMZbgtD",
        "colab_type": "code",
        "colab": {}
      },
      "source": [
        "! rm -rf PGP"
      ],
      "execution_count": null,
      "outputs": []
    },
    {
      "cell_type": "code",
      "metadata": {
        "id": "I5iQt3aXcd1D",
        "colab_type": "code",
        "colab": {
          "base_uri": "https://localhost:8080/",
          "height": 119
        },
        "outputId": "3a2da0ec-f616-4565-be5a-e19cb770783b"
      },
      "source": [
        "! git clone https://github.com/Bronnikoff/PGP.git"
      ],
      "execution_count": 36,
      "outputs": [
        {
          "output_type": "stream",
          "text": [
            "Cloning into 'PGP'...\n",
            "remote: Enumerating objects: 21, done.\u001b[K\n",
            "remote: Counting objects: 100% (21/21), done.\u001b[K\n",
            "remote: Compressing objects: 100% (11/11), done.\u001b[K\n",
            "remote: Total 21 (delta 3), reused 21 (delta 3), pack-reused 0\u001b[K\n",
            "Unpacking objects: 100% (21/21), done.\n"
          ],
          "name": "stdout"
        }
      ]
    },
    {
      "cell_type": "code",
      "metadata": {
        "id": "t8Rfn9Fyfxup",
        "colab_type": "code",
        "colab": {
          "base_uri": "https://localhost:8080/",
          "height": 34
        },
        "outputId": "34223cd5-5d0c-4b2b-ba17-4f3f6b209a37"
      },
      "source": [
        "! ls PGP/lab1"
      ],
      "execution_count": 37,
      "outputs": [
        {
          "output_type": "stream",
          "text": [
            "cuda_vector.h  main.cu\ttests\n"
          ],
          "name": "stdout"
        }
      ]
    },
    {
      "cell_type": "code",
      "metadata": {
        "id": "zAgn1A3sce5v",
        "colab_type": "code",
        "colab": {
          "base_uri": "https://localhost:8080/",
          "height": 85
        },
        "outputId": "cf85eac5-fa33-45fb-daa9-33a3d141e8ce"
      },
      "source": [
        "%%bash\n",
        "\n",
        "cd PGP/lab1\n",
        "nvcc --std=c++11 -Werror cross-execution-space-call -lm main.cu -o run\n",
        "cat tests/test0.d\n",
        "./run < tests/test0.d"
      ],
      "execution_count": 39,
      "outputs": [
        {
          "output_type": "stream",
          "text": [
            "3\n",
            "1 5 3\n",
            "4 2 6\n",
            "1.0000000000 2.0000000000 3.0000000000\n"
          ],
          "name": "stdout"
        }
      ]
    }
  ]
}